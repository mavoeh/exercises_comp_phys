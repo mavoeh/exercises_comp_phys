{
 "cells": [
  {
   "cell_type": "markdown",
   "metadata": {},
   "source": [
    "# Two-body bound state problem"
   ]
  },
  {
   "cell_type": "markdown",
   "metadata": {},
   "source": [
    "The aim of this notebook is to solve the two spin-less boson bound state problem in momentum space in its discretized form:\n",
    "\\begin{equation}\n",
    "\\psi_l(p_i) = \\frac{1}{E-\\frac{p_i^2}{2\\mu_{12}}} \\sum_j w_j \\, p_j^2 V_l(p_i,p_j) \\ \\psi_l(p_j) \\  .\n",
    "\\end{equation}\n"
   ]
  },
  {
   "cell_type": "markdown",
   "metadata": {},
   "source": [
    "## Define a two-body interaction\n",
    "\n",
    "I will work with a class that provides a method for the partial wave projection $V(p,p',l)$ of a bosonic \n",
    "interaction.   "
   ]
  },
  {
   "cell_type": "markdown",
   "metadata": {},
   "source": [
    "A realistic test case is given by a OBE exchange interaction \n",
    "$$ V(\\vec p, \\vec p') = \\frac{A}{2\\pi} \\frac{1}{(\\vec p - \\vec p')^2 + m_B^2} \\exp\\left(-\\frac{(\\vec p - \\vec p')^2 + m_B^2}{\\Lambda^2 }\\right) + \\frac{C_0}{4 \\pi } \\exp\\left( - \\frac{p^2+{p'}^2}{\\Lambda^2}\\right) $$ \n"
   ]
  },
  {
   "cell_type": "code",
   "execution_count": 1,
   "metadata": {},
   "outputs": [],
   "source": [
    "# for simplicity, we define the OBE exchange by numerical integration \n",
    "# and add one contact term to be determined using either a bound state or a scattering length \n",
    "\n",
    "import numpy as np\n",
    "import math as m\n",
    "from numpy.polynomial.legendre import leggauss\n",
    "from scipy.special import legendre\n",
    "\n",
    "\n",
    "class OBEpot:\n",
    "    \"\"\"Provides a method for the partial wave representation of the OBE potential. \n",
    "    \n",
    "       The matrix elements are obtained by numerical intergration.\n",
    "       The mass of the exchanged boson, the strength of the \n",
    "       interaction and the couter term is given on initialization. \n",
    "       The interaction is regularized using a cutoff that is also \n",
    "       given on init.\n",
    "    \"\"\"\n",
    "    \n",
    "    # this are common parameters for all instances \n",
    "    hbarc=197.327\n",
    "    \n",
    "    # init interaction\n",
    "    def __init__(self, cutoff=500.0, C0=1.0, nx=12,mpi=138.0,A=-1.0):\n",
    "        \"\"\"Defines the one boson exchange for a given regulator, coupling strength and short distance parameter\n",
    "        \n",
    "        Parameters:\n",
    "        cutoff -- regulator in MeV\n",
    "        C0 -- strength of the short distance counter term (in s-wave) \n",
    "        A -- strength of OBE\n",
    "        nx -- number of angular grid points for numerical integration\n",
    "        mpi -- mass of exchange boson in MeV\"\"\"\n",
    "        \n",
    "        self.mpi = mpi/self.hbarc\n",
    "        self.cutoff = cutoff/self.hbarc\n",
    "        self.C0=C0\n",
    "        self.A=A\n",
    "        self.nx=nx\n",
    "        \n",
    "        self.xp=np.empty((self.nx),dtype=np.double)\n",
    "        self.xw=np.empty((self.nx),dtype=np.double)\n",
    "        self.xp,self.xw=leggauss(self.nx)\n",
    "    \n",
    "    \n",
    "    \n",
    "    # function defines the x integral \n",
    "    def _g(self,pp,p,k):\n",
    "        \"\"\"Calculates g function of the partial wave decomposition of OBE. \n",
    "        \n",
    "           pp -- outgoing momentum \n",
    "           p -- incoming momentum\n",
    "           k -- angular momentum\"\"\"\n",
    "        \n",
    "        # define prefact \n",
    "        # get the corresponding legendre polynomial \n",
    "        Pk = legendre(k)\n",
    "        # define momentum transfer dependent on angles \n",
    "        qval=np.sqrt(p**2+pp**2-2*p*pp*self.xp)\n",
    "        \n",
    "        # build integral of regularized OBE \n",
    "        return float(np.sum(Pk(self.xp)/((qval**2+self.mpi**2))*self.xw*np.exp(-(qval**2+self.mpi**2)/self.cutoff**2)))\n",
    "        \n",
    "    # determines complete, regularized interaction     \n",
    "    def v(self,pp,p,l):\n",
    "        \"\"\"Potential matrix element in fm**2\n",
    "        \n",
    "           pp -- outgoing momentum in fm**-1\n",
    "           p -- incoming momentum in fm**-1\n",
    "           l -- angular momentum\"\"\" \n",
    "        \n",
    "        # first overall prefact of 1pi exchange part  (cancel 2pi factors!)\n",
    "        prefact=self.A\n",
    "        \n",
    "        mat=prefact*self._g(pp,p,l)\n",
    "\n",
    "        if (l==0):   # add s-wave counter term \n",
    "          mat+=self.C0*np.exp(-(pp**2+p**2)/self.cutoff**2)  # 4pi is take into account by spherical harmonics for l=0\n",
    "                    \n",
    "        return mat\n",
    "\n"
   ]
  },
  {
   "cell_type": "markdown",
   "metadata": {},
   "source": [
    "## Solution of the two-body bound state problem"
   ]
  },
  {
   "cell_type": "markdown",
   "metadata": {},
   "source": [
    "Next define class for solving a two-body problem. On initialization, we define a momentum grid for the solution, the reduced mass of the two particles and the partial wave that should be used. "
   ]
  },
  {
   "cell_type": "code",
   "execution_count": 2,
   "metadata": {},
   "outputs": [],
   "source": [
    "import numpy as np \n",
    "from numpy.polynomial.legendre import leggauss\n",
    "from scipy.special import spherical_jn\n",
    "from scipy.interpolate import interp1d\n",
    "\n",
    "class TwoBody:\n",
    "    \"\"\"Methods to obtain eigenvalues and eigenvectors for the bound state problem and for searches of the binding energy.\"\"\"\n",
    "    # define hbarc for unit conversion \n",
    "    hbarc=197.327  \n",
    "    \n",
    "    def __init__(self, pot, np1=20, np2=10, pa=1.0, pb=5.0, pc=20.0, mred=938.92/2,l=0,\n",
    "                            nr1=20, nr2=10, ra=1.0, rb=5.0, rc=20.0, \n",
    "                            np1four=200,np2four=100):\n",
    "        \"\"\"Initialization of two-body solver. \n",
    "        \n",
    "           The initialization defines the momentum grids and the interaction and partial wave to be used. \n",
    "           At this time, also the grid for Fourier transformation and for the Fourier transformed \n",
    "           wave function is given. \n",
    "           \n",
    "           Parameters:\n",
    "           pot -- object that defines the potential matrix elements (e.g. of class OBEpot).\n",
    "           np1 -- number of grid points in interval [0,pb] \n",
    "           np2 -- number of grid points in interval [pb,pc]\n",
    "           pa  -- half of np1 points are in interval [0,pa]\n",
    "           pb  -- interval boundary as defined above \n",
    "           pc  -- upper integration boundary for the solution of the integral equation \n",
    "           mred -- reduces mass of the two bosons in MeV\n",
    "           \n",
    "           nr1 -- number of r points in interval [0,rb] \n",
    "           nr2 -- number of r points in interval [rb,rc]\n",
    "           ra  -- half of np1 points are in interval [0,pa]\n",
    "           rb  -- interval boundary as defined above \n",
    "           rc  -- upper integration boundary for the solution of the integral equation \n",
    "           \n",
    "           np1four -- number of p points in interval [0,pb] for Fourier trafo\n",
    "           np2four -- number of p points in interval [pb,pc] for Fourier trafo\"\"\"\n",
    "        \n",
    "        # store parameters (if necessary convert to fm)\n",
    "        self.np1 = np1\n",
    "        self.np2 = np2\n",
    "        self.npoints  = np1+np2 \n",
    "        self.mred=mred/self.hbarc\n",
    "        self.pa=pa\n",
    "        self.pb=pb\n",
    "        self.pc=pc\n",
    "        self.l=l \n",
    "\n",
    "        self.nr1 = nr1\n",
    "        self.nr2 = nr2\n",
    "        self.nrpoints  = nr1+nr2 \n",
    "        self.ra=ra\n",
    "        self.rb=rb\n",
    "        self.rc=rc\n",
    "\n",
    "        self.np1four = np1four\n",
    "        self.np2four = np2four\n",
    "        self.npfour  = np1four+np2four \n",
    "\n",
    "        # store grid points and weights for integral equations\n",
    "        self.pgrid,self.pweight = self._trns(self.np1,self.np2,self.pa,self.pb,self.pc)\n",
    " \n",
    "        # store grid points and weights for r space wave functions\n",
    "        self.rgrid,self.rweight = self._trns(self.nr1,self.nr2,self.ra,self.rb,self.rc)\n",
    "        \n",
    "        # store grid points and weights for Fourier trafo \n",
    "        self.pfourgrid,self.pfourweight = self._trns(self.np1four,self.np2four,self.pa,self.pb,self.pc)\n",
    "        \n",
    "        # store underlying interaction\n",
    "        self.pot=pot\n",
    "        \n",
    "    def _trns(self,np1,np2,pa,pb,pc):\n",
    "      \"\"\"Auxilliary method that provides transformed Gaus-Legendre grid points and integration weights.\n",
    "      \n",
    "         This is using a hyperbolic trafo shown in the lecture. \n",
    "         Parameter: \n",
    "         np1 --  grid points in ]0,pb[\n",
    "         np2 --  grid points are distributed in ]pb,pc[ using a linear trafo\n",
    "         \n",
    "         pa  -- half of np1 points are in interval [0,pa]\n",
    "         pb  -- interval boundary as defined above \n",
    "         pc  -- upper integration boundary \"\"\" \n",
    "    \n",
    "      x1grid,x1weight=leggauss(np1)\n",
    "      x2grid,x2weight=leggauss(np2)\n",
    "\n",
    "      # trafo (1.+X) / (1./P1-(1./P1-2./P2)*X) for first interval \n",
    "      p1grid=(1.+x1grid) / (1./pa-(1./pa-2./pb)*x1grid)\n",
    "      p1weight=(2.0/pa-2.0/pb)*x1weight / (1./pa-(1./pa-2./pb)*x1grid)**2\n",
    "\n",
    "      # linear trafo \n",
    "      p2grid=(pc+pb)/2.0 + (pc-pb)/2.0*x2grid\n",
    "      p2weight=(pc-pb)/2.0*x2weight\n",
    "   \n",
    "      pgrid=np.empty((self.npoints),dtype=np.double)\n",
    "      pweight=np.empty((self.npoints),dtype=np.double)\n",
    "    \n",
    "      pgrid = np.concatenate((p1grid, p2grid), axis=None)\n",
    "      pweight = np.concatenate((p1weight, p2weight), axis=None)\n",
    "   \n",
    "      return pgrid,pweight \n",
    "\n",
    "# set up set of equations and calculate eigenvalues \n",
    "\n",
    "    def eigv(self,E,neigv):\n",
    "      \"\"\"Solve two-body integral equation and return n-th eigenvalue, momentum grid and wave function. \n",
    "\n",
    "         Parameters:\n",
    "         E -- energy used in the integral equation in fm**-1 \n",
    "         neigv -- number of the eigenvalue to be used\"\"\"\n",
    "   \n",
    "    # set up the matrix amat for which eigenvalues have to be calculated \n",
    "      amat=np.empty((self.npoints,self.npoints),dtype=np.double)\n",
    "      for i in range(self.npoints):\n",
    "        for j in range(self.npoints): \n",
    "          amat[i,j]=np.real(1.0/(E-self.pgrid[i]**2/(2*self.mred))*self.pot.v(self.pgrid[i],self.pgrid[j],self.l)*self.pweight[j]*self.pgrid[j]**2)\n",
    "\n",
    "    # determine eigenvalues using numpy's eig method        \n",
    "      evalue,evec=np.linalg.eig(amat)\n",
    "    \n",
    "    # I now assume that the relevant eigenvalues are real to avoid complex arithmetic \n",
    "      evalue=np.real(evalue)\n",
    "        \n",
    "    # remove neigv-1 largest eigenvalues \n",
    "      for n in range(neigv-1):\n",
    "        maxpos=np.argmax(evalue)\n",
    "        evalue[maxpos]=0.0\n",
    "    \n",
    "    # take the next one \n",
    "      maxpos=np.argmax(evalue)\n",
    "      eigv=evalue[maxpos]\n",
    "    # define solution as unnormalized wave function \n",
    "      wf=evec[:,maxpos]\n",
    "    # and normalize \n",
    "      norm=np.sum(wf**2*self.pweight[0:self.npoints]*self.pgrid[0:self.npoints]**2)\n",
    "      wf=1/np.sqrt(norm)*wf\n",
    "    \n",
    "      return eigv,self.pgrid[0:self.npoints],wf\n",
    "\n",
    "    \n",
    "    def esearch(self,neigv=1,e1=-0.01,e2=-0.0105,elow=0.0,tol=1e-8):\n",
    "        \"\"\"Perform search for energy using the secant method. \n",
    "        \n",
    "           Parameters:\n",
    "           neigv -- number of the eigenvalue to be used\n",
    "           e1 -- first estimate of binding energy (should be negative)\n",
    "           e2 -- second estimate of binding energy (should be negative)\n",
    "           elow -- largest energy to be used in search (should be negative)\n",
    "           tol -- if two consecutive energies differ by less then tol, the search is converged\n",
    "           \n",
    "           Energies are given in fm**-1. \"\"\"\n",
    "        \n",
    "        # determine eigenvalues for starting energies        \n",
    "        eta1,pgrid,wf=self.eigv(e1,neigv)\n",
    "        eta2,pgrid,wf=self.eigv(e2,neigv)\n",
    "        \n",
    "        while abs(e1-e2) > tol: \n",
    "          # get new estimate (taking upper value into account)   \n",
    "          enew=e2+(e1-e2)/(eta1-eta2)*(1-eta2) \n",
    "          enew=min(elow,enew)\n",
    "       \n",
    "          # get new eigenvalue and replace e1 and e2 for next iteration\n",
    "          eta,pgrid,wf=self.eigv(enew,neigv)\n",
    "          e2=e1\n",
    "          eta2=eta1\n",
    "          e1=enew\n",
    "          eta1=eta \n",
    "            \n",
    "        return e1,eta1,pgrid,wf \n",
    "           \n",
    "    def fourier(self,wfp):\n",
    "        \"\"\"Calculates the Fourier transform of the partial wave representation of the wave function.\n",
    "        \n",
    "           Parameter: \n",
    "           wfp -- wave function in momentum space\n",
    "            \n",
    "           Note that the factor I**l is omitted.\"\"\"\n",
    "        \n",
    "        # calculate spherical bessel functions based dense Fourier trafo momentum grid and rgrid\n",
    "        # prepare matrix based on r,p points  \n",
    "        rpmat = np.outer(self.rgrid,self.pfourgrid)\n",
    "        # evaluate jl     \n",
    "        jlmat = spherical_jn(self.l,rpmat)\n",
    "        \n",
    "        # interpolate of wave to denser Fourier trafo grid\n",
    "        wfinter = interp1d(self.pgrid, wfp, kind='cubic',fill_value=\"extrapolate\")\n",
    "        # interpolate wf and multiply my p**2*w elementwise \n",
    "        wfdense = wfinter(self.pfourgrid)*self.pfourgrid**2*self.pfourweight*np.sqrt(2/m.pi)\n",
    "        \n",
    "        # now the Fourier trafo is a matrix-vector multiplication \n",
    "        wfr = jlmat.dot(wfdense)\n",
    "        \n",
    "        return self.rgrid,wfr\n",
    "    \n",
    "    \n",
    "    def rms(self,wfr):\n",
    "        \"\"\"Calculates the norm and rms radius for the given r-space wave function.\n",
    "        \n",
    "           Normalization of the wave function is assumed. \n",
    "           Parameter: \n",
    "           wfr -- wave function in r-space obtained by previous Fourier trafo\"\"\"\n",
    "        \n",
    "        \n",
    "        norm=np.sum(wfr**2*self.rweight*self.rgrid**2)\n",
    "        rms=np.sum(wfr**2*self.rweight*self.rgrid**4)\n",
    "\n",
    "            \n",
    "        rms=np.sqrt(rms)\n",
    "        \n",
    "        return norm,rms\n",
    "    \n",
    "    \n",
    "        "
   ]
  },
  {
   "cell_type": "markdown",
   "metadata": {},
   "source": [
    "## Fitting of parameters\n",
    "\n",
    "First define a OBE interaction that predicts a bound state at 2.225 MeV (similar to deuteron, neutron-proton bound state). \n",
    "For exchange particle mass, we choose the $\\pi$-mass: $m_B = 138.0$ MeV. We will (more or less arbitary) choose the strength of the \n",
    "long range interaction to be $A=-1.0/6.474860194946856$. \n",
    "\n",
    "The idea is to determine for each cutoff $\\Lambda$ a properly adjusted counter term strength $C_0(\\Lambda)$ so that $E_B=-2.225$ MeV."
   ]
  },
  {
   "cell_type": "code",
   "execution_count": 3,
   "metadata": {},
   "outputs": [],
   "source": [
    "# the following routine uses the secant method to determine C0\n",
    "\n",
    "def fitc0(lamlist,nx=12,np1=40,np2=30,pa=1.0,pb=7.0,pc=35.0):\n",
    "    \"\"\"Fits C0 values for given set of discretizations.\n",
    "    \n",
    "       Parameters:\n",
    "       lamlist -- list of Lambda values in MeV\n",
    "       nx -- number of x grid points for partial wave projection of the potential\n",
    "       np1,np2 -- grid points for momentum grid for the solution of the Schrödinger equation\n",
    "       pa,pb,pc -- limits of intervals for the momentum grid \n",
    "    \"\"\"  \n",
    "    \n",
    "    # fix start value for C0 and parameters of long range part etc. \n",
    "    c1=0.0\n",
    "    A=-1.0/6.474860194946856\n",
    "    mpi=138.0\n",
    "    mred=938.92/2\n",
    "    l=0\n",
    "    e0=-2.225/TwoBody.hbarc\n",
    "    neigv=1\n",
    "    \n",
    "    # fit results will be collected in fitres\n",
    "    fitres=[]\n",
    "    for Lambda in lamlist: \n",
    "      # c1 is reused from previous lambda  \n",
    "      c2=c1+0.1 \n",
    "    \n",
    "      # set up potential \n",
    "      pot=OBEpot(nx=nx,mpi=mpi,C0=c1,A=A,cutoff=Lambda)\n",
    "      #set up solver for two-body problem\n",
    "      solver=TwoBody(pot=pot,np1=np1,np2=np2,pa=pa,pb=pb,pc=pc,mred=mred,l=l)  \n",
    "      # determine eigenvalue for the given energy \n",
    "      eta1,pgrid,wf=solver.eigv(e0,neigv)\n",
    "\n",
    "      # same as above for second value of C0 \n",
    "      pot=OBEpot(nx=nx,mpi=mpi,C0=c2,A=A,cutoff=Lambda)\n",
    "      solver=TwoBody(pot=pot,np1=np1,np2=np2,pa=pa,pb=pb,pc=pc,mred=mred,l=l)    \n",
    "      eta2,pgrid,wf=solver.eigv(e0,neigv)\n",
    "        \n",
    "      # repeat the steps of the second method until there is no change in c anymore   \n",
    "      while abs(c1-c2) > 1E-10: \n",
    "          # get new estimate (taking upper value into account)   \n",
    "          cnew=c2+(c1-c2)/(eta1-eta2)*(1-eta2) \n",
    "\n",
    "          # repeat the determination of the eigenvalue for new c \n",
    "          pot=OBEpot(nx=nx,mpi=mpi,C0=cnew,A=A,cutoff=Lambda)\n",
    "          solver=TwoBody(pot=pot,np1=np1,np2=np2,pa=pa,pb=pb,pc=pc,mred=mred,l=l)    \n",
    "          eta,pgrid,wf=solver.eigv(e0,neigv)\n",
    "        \n",
    "          # shift c1,c2,cnew for the secant method's iterations\n",
    "          c2=c1\n",
    "          eta2=eta1\n",
    "          c1=cnew\n",
    "          eta1=eta \n",
    "            \n",
    "      # collect Lambda and corresponding values of C0       \n",
    "      fitres.append([Lambda,cnew])\n",
    "      # print the result (to see some progress during fit)\n",
    "      print(\"{0:15.3f}  {1:15.6e}  {2:15.6e}\".format(Lambda,cnew,eta))\n",
    "        \n",
    "    return fitres \n",
    "    \n",
    "    "
   ]
  },
  {
   "cell_type": "markdown",
   "metadata": {},
   "source": [
    "We are now using the largest cutoff that we employ today to check the numerical stability. \n",
    "\n",
    "We start with changing the number of nx grid points. "
   ]
  },
  {
   "cell_type": "code",
   "execution_count": 4,
   "metadata": {},
   "outputs": [
    {
     "name": "stdout",
     "output_type": "stream",
     "text": [
      "       1200.000     3.428743e-02     1.000000e+00\n",
      "       1200.000     3.430938e-02     1.000000e+00\n",
      "       1200.000     3.431397e-02     1.000000e+00\n",
      "       1200.000     3.431543e-02     1.000000e+00\n"
     ]
    },
    {
     "data": {
      "text/plain": [
       "[[1200.0, 0.03431542521329354]]"
      ]
     },
     "execution_count": 4,
     "metadata": {},
     "output_type": "execute_result"
    }
   ],
   "source": [
    "# the provided routines use complex numbers in some cases \n",
    "# this leads to irrelevant warnings that can be avoided by the following lines\n",
    "import warnings\n",
    "warnings.filterwarnings('ignore')\n",
    "\n",
    "# only one cutoff\n",
    "lamlist=[1200.0]\n",
    "# series of fits using different nx\n",
    "fitc0(lamlist,nx=8,np1=40,np2=30,pa=1.0,pb=7.0,pc=35.0)\n",
    "fitc0(lamlist,nx=12,np1=40,np2=30,pa=1.0,pb=7.0,pc=35.0)\n",
    "fitc0(lamlist,nx=16,np1=40,np2=30,pa=1.0,pb=7.0,pc=35.0)\n",
    "fitc0(lamlist,nx=20,np1=40,np2=30,pa=1.0,pb=7.0,pc=35.0)"
   ]
  },
  {
   "cell_type": "markdown",
   "metadata": {},
   "source": [
    "nx=20 is accurate to better than 4 siginificant digits (sufficient for us)\n",
    "\n",
    "Then increase momentum grid ..."
   ]
  },
  {
   "cell_type": "code",
   "execution_count": 5,
   "metadata": {},
   "outputs": [
    {
     "name": "stdout",
     "output_type": "stream",
     "text": [
      "       1200.000     3.431611e-02     1.000000e+00\n",
      "       1200.000     3.431545e-02     1.000000e+00\n",
      "       1200.000     3.431543e-02     1.000000e+00\n",
      "       1200.000     3.431542e-02     1.000000e+00\n"
     ]
    },
    {
     "data": {
      "text/plain": [
       "[[1200.0, 0.0343154244388246]]"
      ]
     },
     "execution_count": 5,
     "metadata": {},
     "output_type": "execute_result"
    }
   ],
   "source": [
    "lamlist=[1200.0]\n",
    "fitc0(lamlist,nx=20,np1=20,np2=10,pa=1.0,pb=7.0,pc=35.0)\n",
    "fitc0(lamlist,nx=20,np1=30,np2=20,pa=1.0,pb=7.0,pc=35.0)\n",
    "fitc0(lamlist,nx=20,np1=40,np2=30,pa=1.0,pb=7.0,pc=35.0)\n",
    "fitc0(lamlist,nx=20,np1=50,np2=40,pa=1.0,pb=7.0,pc=35.0)"
   ]
  },
  {
   "cell_type": "markdown",
   "metadata": {},
   "source": [
    "np=20+10 is already suffient for an accuracy of better than 4 significant digits.  \n",
    "\n",
    "Then decrease upper bound ..."
   ]
  },
  {
   "cell_type": "code",
   "execution_count": 6,
   "metadata": {},
   "outputs": [
    {
     "name": "stdout",
     "output_type": "stream",
     "text": [
      "       1200.000     3.431589e-02     1.000000e+00\n",
      "       1200.000     3.431599e-02     1.000000e+00\n",
      "       1200.000     3.431611e-02     1.000000e+00\n",
      "       1200.000     3.431630e-02     1.000000e+00\n"
     ]
    },
    {
     "data": {
      "text/plain": [
       "[[1200.0, 0.03431629835830172]]"
      ]
     },
     "execution_count": 6,
     "metadata": {},
     "output_type": "execute_result"
    }
   ],
   "source": [
    "lamlist=[1200.0]\n",
    "fitc0(lamlist,nx=20,np1=20,np2=10,pa=1.0,pb=7.0,pc=25.0)\n",
    "fitc0(lamlist,nx=20,np1=20,np2=10,pa=1.0,pb=7.0,pc=30.0)\n",
    "fitc0(lamlist,nx=20,np1=20,np2=10,pa=1.0,pb=7.0,pc=35.0)\n",
    "fitc0(lamlist,nx=20,np1=20,np2=10,pa=1.0,pb=7.0,pc=45.0)"
   ]
  },
  {
   "cell_type": "markdown",
   "metadata": {},
   "source": [
    "pc=35 fm$^{-1}$ is sufficient for the desired accuracy. \n",
    "\n",
    "Then we can safely assume that the accuracy is better for the lower cutoffs and perform fits for a range of \n",
    "curtoffs."
   ]
  },
  {
   "cell_type": "code",
   "execution_count": 7,
   "metadata": {},
   "outputs": [
    {
     "name": "stdout",
     "output_type": "stream",
     "text": [
      "        300.000    -9.827953e-02     1.000000e+00\n",
      "        400.000    -2.820315e-02     1.000000e+00\n",
      "        500.000    -4.221894e-04     1.000000e+00\n",
      "        600.000     1.285743e-02     1.000000e+00\n",
      "        700.000     2.016719e-02     1.000000e+00\n",
      "        800.000     2.470795e-02     1.000000e+00\n",
      "        900.000     2.786520e-02     1.000000e+00\n",
      "       1000.000     3.030801e-02     1.000000e+00\n",
      "       1100.000     3.239034e-02     1.000000e+00\n",
      "       1200.000     3.431611e-02     1.000000e+00\n"
     ]
    },
    {
     "data": {
      "text/plain": [
       "[[300.0, -0.09827953494014054],\n",
       " [400.0, -0.028203145146196713],\n",
       " [500.0, -0.0004221894040945335],\n",
       " [600.0, 0.012857431330421717],\n",
       " [700.0, 0.020167185806378923],\n",
       " [800.0, 0.024707945457255083],\n",
       " [900.0, 0.027865200396659445],\n",
       " [1000.0, 0.030308007813785776],\n",
       " [1100.0, 0.03239034331482156],\n",
       " [1200.0, 0.03431611357447293]]"
      ]
     },
     "execution_count": 7,
     "metadata": {},
     "output_type": "execute_result"
    }
   ],
   "source": [
    "lamlist=[300.0,400.0,500.0,600.0,700.0,800.0,900.0,1000.0,1100.0,1200.0]\n",
    "fitc0(lamlist,nx=20,np1=20,np2=10,pa=1.0,pb=7.0,pc=35.0)"
   ]
  },
  {
   "cell_type": "markdown",
   "metadata": {},
   "source": [
    "This determines a set of different interactions. We expect that these interactions are equivalent at low momenta. \n",
    "Let us therefore solve the bound state problem for these interactions and compare wave functions. \n",
    "(Later we will use the interactions also for solving scattering problems!) "
   ]
  },
  {
   "cell_type": "code",
   "execution_count": 8,
   "metadata": {},
   "outputs": [
    {
     "name": "stdout",
     "output_type": "stream",
     "text": [
      "  -2.224997e+00      1.000000e+00  9.997794e-01+0.000000e+00j   2.096766e+00+0.000000e+00j\n",
      "  -2.224993e+00      1.000000e+00  9.997841e-01+0.000000e+00j   2.069329e+00+0.000000e+00j\n",
      "  -2.224990e+00      1.000000e+00  9.997849e-01+0.000000e+00j   2.064349e+00+0.000000e+00j\n",
      "  -2.224991e+00      1.000000e+00  9.997849e-01+0.000000e+00j   2.064681e+00+0.000000e+00j\n",
      "  -2.224992e+00      1.000000e+00  9.997846e-01+0.000000e+00j   2.066091e+00+0.000000e+00j\n",
      "  -2.224992e+00      1.000000e+00  9.997844e-01+0.000000e+00j   2.067504e+00+0.000000e+00j\n",
      "  -2.224993e+00      1.000000e+00     9.997843e-01      2.068679e+00\n",
      "  -2.224994e+00      1.000000e+00  9.997842e-01+0.000000e+00j   2.069602e+00+0.000000e+00j\n",
      "  -2.224994e+00      1.000000e+00  9.997841e-01+0.000000e+00j   2.070315e+00+0.000000e+00j\n",
      "  -2.224991e+00      1.000000e+00  9.997840e-01+0.000000e+00j   2.070864e+00+0.000000e+00j\n"
     ]
    },
    {
     "data": {
      "image/png": "[encoded data removed]",
      "text/plain": [
       "<Figure size 432x288 with 1 Axes>"
      ]
     },
     "metadata": {
      "needs_background": "light"
     },
     "output_type": "display_data"
    }
   ],
   "source": [
    "# libaries for plotting\n",
    "# numpy is used for the solution anyhow \n",
    "import matplotlib.pyplot as plt\n",
    "import numpy as np\n",
    "\n",
    "# get figure enviroment \n",
    "fig, ax = plt.subplots()\n",
    "\n",
    "# set labels \n",
    "ax.set_xlabel(r'$p$[fm$^{-1}$]')\n",
    "ax.set_ylabel(r'$\\psi(p)$[fm$^{3/2}$]')\n",
    "\n",
    "# set some limits on axes to concentrate on most relevant part of the interaction. \n",
    "\n",
    "ax.set_xlim(0,8)\n",
    "ax.set_ylim(1E-6,15)\n",
    "\n",
    "\n",
    "# fit result copied from above \n",
    "res=[[300.0, -0.09827953494014054],\n",
    " [400.0, -0.028203145146196713],\n",
    " [500.0, -0.0004221894040945335],\n",
    " [600.0, 0.012857431330421717],\n",
    " [700.0, 0.020167185806378923],\n",
    " [800.0, 0.024707945457255083],\n",
    " [900.0, 0.027865200396659445],\n",
    " [1000.0, 0.030308007813785776],\n",
    " [1100.0, 0.03239034331482156],\n",
    " [1200.0, 0.03431611357447293]]\n",
    "\n",
    "# go through parameters of fit\n",
    "for para in res:\n",
    "    # determine interacion and set up solver \n",
    "    pot=OBEpot(nx=24,mpi=138.0,C0=para[1],A=-1.0/6.474860194946856,cutoff=para[0])\n",
    "    solver=TwoBody(pot=pot,np1=40,np2=20,pa=1.0,pb=7.0,pc=35.0,mred=938.92/2,l=0,\n",
    "                            nr1=40, nr2=20, ra=1.0, rb=5.0, rc=20.0, \n",
    "                            np1four=400,np2four=200)\n",
    "    \n",
    "    # perform energy search for this parameter set\n",
    "    ener,lam,pmom,wf=solver.esearch(neigv=1,e1=-2.0/TwoBody.hbarc,e2=-2.5/TwoBody.hbarc)\n",
    "    \n",
    "    # get Fourier trafo (together with r grid points)\n",
    "    rp,wfr=solver.fourier(wf)\n",
    "    # calculate norm and rms radius (deviation of the norm from 1 gives idea of accuracy)\n",
    "    norm,rms=solver.rms(wfr)\n",
    "    \n",
    "    # plot the wave function in momentum space (here use log scale and abs values, if statement takes care \n",
    "    # of the sign of wf when a linear scale and no abs values is used)\n",
    "    if wf[0]>0:\n",
    "      ax.semilogy(pmom,np.abs(wf),label=r\"$\\Lambda=$ {0:10.3f}\".format(para[0]))\n",
    "    else:  \n",
    "      ax.semilogy(pmom,np.abs(-wf),label=r\"$\\Lambda=$ {0:10.3f}\".format(para[0]))   # this part is only relevant for a non log plot\n",
    "\n",
    "    \n",
    "    # print energy, eigenvalue (should be one), norm and 1/2 rms (= radius to the CM for equal mass particles)\n",
    "    print(\"{0:15.6e}   {1:15.6e}  {2:15.6e}   {3:15.6e}\".format(ener*TwoBody.hbarc,lam, norm, rms/2.0)) #rms is printed for distance to CM assuming equal masses\n",
    "\n",
    "ax.legend(loc=\"best\")\n",
    "    \n",
    "plt.show()    "
   ]
  },
  {
   "cell_type": "markdown",
   "metadata": {},
   "source": [
    "The wavefunctions are very similar for low moment, at higher momenta, they are more dependent on the cutoff. The dip structure indicates a \n",
    "sign change of the wave function that can be related to short range repulsion. \n",
    "\n",
    "The rms radius does not change anymore for increasing cutoffs. "
   ]
  },
  {
   "cell_type": "code",
   "execution_count": null,
   "metadata": {},
   "outputs": [],
   "source": []
  }
 ],
 "metadata": {
  "kernelspec": {
   "display_name": "Python 3",
   "language": "python",
   "name": "python3"
  },
  "language_info": {
   "codemirror_mode": {
    "name": "ipython",
    "version": 3
   },
   "file_extension": ".py",
   "mimetype": "text/x-python",
   "name": "python",
   "nbconvert_exporter": "python",
   "pygments_lexer": "ipython3",
   "version": "3.6.12"
  }
 },
 "nbformat": 4,
 "nbformat_minor": 4
}
